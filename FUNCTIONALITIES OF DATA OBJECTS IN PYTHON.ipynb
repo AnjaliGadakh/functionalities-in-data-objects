{
 "cells": [
  {
   "cell_type": "markdown",
   "id": "0d2c00a7",
   "metadata": {},
   "source": [
    "Functionalities of Data Objects in Python"
   ]
  },
  {
   "cell_type": "markdown",
   "id": "4164e9d3",
   "metadata": {},
   "source": [
    "1. Head()"
   ]
  },
  {
   "cell_type": "markdown",
   "id": "44b25ed0",
   "metadata": {},
   "source": [
    "Returns-1st n rows of DS n no specified as an argument to head function"
   ]
  },
  {
   "cell_type": "code",
   "execution_count": 1,
   "id": "f13662d6",
   "metadata": {},
   "outputs": [
    {
     "name": "stdout",
     "output_type": "stream",
     "text": [
      "0    1\n",
      "1    2\n",
      "2    3\n",
      "3    4\n",
      "4    5\n",
      "5    6\n",
      "dtype: int32\n"
     ]
    }
   ],
   "source": [
    "import pandas as pd\n",
    "import numpy as np\n",
    "df=pd.Series(np.arange(1,51))\n",
    "print (df.head(6))"
   ]
  },
  {
   "cell_type": "markdown",
   "id": "c226bfd3",
   "metadata": {},
   "source": [
    "Tail()"
   ]
  },
  {
   "cell_type": "markdown",
   "id": "675d544a",
   "metadata": {},
   "source": [
    "Returns-last n rows of DS n no specified as an argument to tail function"
   ]
  },
  {
   "cell_type": "code",
   "execution_count": 2,
   "id": "71541746",
   "metadata": {},
   "outputs": [
    {
     "name": "stdout",
     "output_type": "stream",
     "text": [
      "44    45\n",
      "45    46\n",
      "46    47\n",
      "47    48\n",
      "48    49\n",
      "49    50\n",
      "dtype: int32\n"
     ]
    }
   ],
   "source": [
    "import pandas as pd\n",
    "import numpy as np\n",
    "df=pd.Series(np.arange(1,51))\n",
    "print (df.tail(6))"
   ]
  },
  {
   "cell_type": "markdown",
   "id": "4458f456",
   "metadata": {},
   "source": [
    "3. values()"
   ]
  },
  {
   "cell_type": "markdown",
   "id": "8ab9fb2e",
   "metadata": {},
   "source": [
    "Returns- actual D in the series of the array"
   ]
  },
  {
   "cell_type": "code",
   "execution_count": 3,
   "id": "03e2290d",
   "metadata": {},
   "outputs": [
    {
     "name": "stdout",
     "output_type": "stream",
     "text": [
      "[ 1  2  3  4  5  6  7  8  9 10 11 12 13 14 15 16 17 18 19 20 21 22 23 24\n",
      " 25 26 27 28 29 30 31 32 33 34 35 36 37 38 39 40 41 42 43 44 45 46 47 48\n",
      " 49 50]\n"
     ]
    }
   ],
   "source": [
    "import pandas as pd\n",
    "import numpy as np\n",
    "df=pd.Series(np.arange(1,51))\n",
    "print (df.values)"
   ]
  },
  {
   "cell_type": "markdown",
   "id": "a023cd19",
   "metadata": {},
   "source": [
    "4. groupby()"
   ]
  },
  {
   "cell_type": "markdown",
   "id": "fb042720",
   "metadata": {},
   "source": [
    "group the DF acco. given condition"
   ]
  },
  {
   "cell_type": "markdown",
   "id": "ffda9e14",
   "metadata": {},
   "source": [
    "5. Concatenation"
   ]
  },
  {
   "cell_type": "markdown",
   "id": "eac9debd",
   "metadata": {},
   "source": [
    "Combines 2 or more DS"
   ]
  },
  {
   "cell_type": "code",
   "execution_count": 4,
   "id": "20f0a380",
   "metadata": {},
   "outputs": [
    {
     "name": "stdout",
     "output_type": "stream",
     "text": [
      "          Team  ICC_rank  World_champions_Year  Points          Team  \\\n",
      "0        India         2                  2011     874  South Africa   \n",
      "1    Australia         3                  2015     787   New Zealand   \n",
      "2  West Indies         7                  1979     753      Zimbabwe   \n",
      "3     Pakistan         8                  1992     673           NaN   \n",
      "4    Sri Lanka         4                  1996     855           NaN   \n",
      "\n",
      "   ICC_rank  Points  \n",
      "0       1.0   895.0  \n",
      "1       5.0   764.0  \n",
      "2       9.0   656.0  \n",
      "3       NaN     NaN  \n",
      "4       NaN     NaN  \n"
     ]
    }
   ],
   "source": [
    "#axis=1-two Dsets combined using columns\n",
    "import pandas as pd\n",
    "world_champions= {'Team':['India','Australia','West Indies','Pakistan','Sri Lanka'],'ICC_rank':[2,3,7,8,4],'World_champions_Year':[2011,2015,1979,1992,1996],'Points':[874,787,753,673,855]}\n",
    "chokers={'Team':['South Africa','New Zealand','Zimbabwe'],'ICC_rank':[1,5,9],'Points':[895,764,656]}\n",
    "df1=pd.DataFrame(world_champions)\n",
    "df2=pd.DataFrame(chokers)\n",
    "print(pd.concat([df1,df2],axis=1))"
   ]
  },
  {
   "cell_type": "markdown",
   "id": "3bc16820",
   "metadata": {},
   "source": [
    "6. Merging"
   ]
  },
  {
   "cell_type": "markdown",
   "id": "03533cc8",
   "metadata": {},
   "source": [
    "Similer to concatenation but need to have a common column between two or more Dsets or tables Merging is performed using Dbase joins, whereas concatenation combines two or more DFs that do not have any rlsnsp"
   ]
  },
  {
   "cell_type": "code",
   "execution_count": 5,
   "id": "09f35c01",
   "metadata": {},
   "outputs": [
    {
     "name": "stdout",
     "output_type": "stream",
     "text": [
      "          Team  ICC_rank  World_champions_Year  Points\n",
      "0        India         2                  2011     874\n",
      "1    Australia         3                  2015     787\n",
      "2  West Indies         7                  1979     753\n",
      "3     Pakistan         8                  1992     673\n",
      "4    Sri Lanka         4                  1996     855\n",
      "          Team  World_cup_played  ODIs_played\n",
      "0        India                11          733\n",
      "1    Australia                10          988\n",
      "2  West Indies                11          712\n",
      "3     Pakistan                 9          679\n",
      "4    Sri Lanka                 8          662\n",
      "          Team  ICC_rank  World_champions_Year  Points  World_cup_played  \\\n",
      "0        India         2                  2011     874                11   \n",
      "1    Australia         3                  2015     787                10   \n",
      "2  West Indies         7                  1979     753                11   \n",
      "3     Pakistan         8                  1992     673                 9   \n",
      "4    Sri Lanka         4                  1996     855                 8   \n",
      "\n",
      "   ODIs_played  \n",
      "0          733  \n",
      "1          988  \n",
      "2          712  \n",
      "3          679  \n",
      "4          662  \n"
     ]
    }
   ],
   "source": [
    "#team is common column\n",
    "import pandas as pd\n",
    "champion_stats= {'Team':['India','Australia','West Indies','Pakistan','Sri Lanka'],'ICC_rank':[2,3,7,8,4],'World_champions_Year':[2011,2015,1979,1992,1996],'Points':[874,787,753,673,855]}\n",
    "match_stats={'Team':['India','Australia','West Indies','Pakistan','Sri Lanka'],'World_cup_played':[11,10,11,9,8],'ODIs_played':[733,988,712,679,662]}\n",
    "df1=pd.DataFrame(champion_stats)\n",
    "df2=pd.DataFrame(match_stats)\n",
    "print (df1)\n",
    "print (df2)\n",
    "print(pd.merge(df1,df2,on='Team'))"
   ]
  }
 ],
 "metadata": {
  "kernelspec": {
   "display_name": "Python 3 (ipykernel)",
   "language": "python",
   "name": "python3"
  },
  "language_info": {
   "codemirror_mode": {
    "name": "ipython",
    "version": 3
   },
   "file_extension": ".py",
   "mimetype": "text/x-python",
   "name": "python",
   "nbconvert_exporter": "python",
   "pygments_lexer": "ipython3",
   "version": "3.9.13"
  }
 },
 "nbformat": 4,
 "nbformat_minor": 5
}
